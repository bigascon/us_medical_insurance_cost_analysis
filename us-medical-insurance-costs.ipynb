{
 "cells": [
  {
   "cell_type": "markdown",
   "metadata": {},
   "source": [
    "# U.S. Medical Insurance Costs"
   ]
  },
  {
   "cell_type": "markdown",
   "metadata": {},
   "source": [
    "## Step 1: \n",
    "### Import insurance.csv into Python file and inspect the contents."
   ]
  },
  {
   "cell_type": "code",
   "execution_count": 76,
   "metadata": {},
   "outputs": [],
   "source": [
    "import csv\n",
    "def csv_read (key):\n",
    "    lst = []\n",
    "    with open('insurance.csv') as insurance_csv:\n",
    "        csv_reader = csv.DictReader(insurance_csv)\n",
    "        for row in csv_reader:\n",
    "            lst.append(row.get(key))\n",
    "    return lst\n",
    "        "
   ]
  },
  {
   "cell_type": "markdown",
   "metadata": {},
   "source": [
    "## Step 2: \n",
    "### Save dataset via Python variables"
   ]
  },
  {
   "cell_type": "code",
   "execution_count": 142,
   "metadata": {},
   "outputs": [],
   "source": [
    "ages = csv_read('age')\n",
    "sex = csv_read('sex')\n",
    "bmi = csv_read('bmi')\n",
    "region = csv_read('region')\n",
    "smoker = csv_read('smoker')\n",
    "charges = csv_read('charges')\n",
    "children = csv_read('children')\n",
    "#print(children)"
   ]
  },
  {
   "cell_type": "markdown",
   "metadata": {},
   "source": [
    "## Step 3: \n",
    "### Look for biases in the dataset and explore variables"
   ]
  },
  {
   "cell_type": "markdown",
   "metadata": {},
   "source": [
    "#### Qualitative Variables"
   ]
  },
  {
   "cell_type": "code",
   "execution_count": 125,
   "metadata": {},
   "outputs": [
    {
     "name": "stdout",
     "output_type": "stream",
     "text": [
      "1338\n",
      "The ratio between males and females in this dataset is of 1.0. This sample is comprised of 676 males and 662 females, which form 50.5% and 49.5% of the population respectively\n",
      "The ratio between smokers and non_smokers in this dataset is of 0.3. This sample is comprised of 274 smokers and 1064 non_smokers, which form 20.5% and 79.5% of the population respectively\n",
      "The number of male smokers in the dataset is 159 making up 23.5% of the male population. While the number of female smokers in the dataset is 115 making up 17.4% of the female population.\n",
      "Out of the total population, 325 people are from the Southwest, representing 24.3%.\n",
      "Out of the total population, 364 people are from the Southeast, representing 27.2%.\n",
      "Out of the total population, 325 people are from the Northwest, representing 24.3%.\n",
      "Out of the total population, 324 people are from the Northeast, representing 24.2%.\n"
     ]
    }
   ],
   "source": [
    "sample_size = len(ages)\n",
    "print(sample_size)\n",
    "# Sex Distribution\n",
    "male_count = 0\n",
    "female_count = 0\n",
    "for item in sex:\n",
    "    if item == 'male':\n",
    "        male_count += 1\n",
    "    elif item == 'female':\n",
    "        female_count += 1\n",
    "    \n",
    "print('The ratio between males and females in this dataset is of ' + str(round(male_count / female_count,1)) + '. This sample is comprised of ' + str(male_count) + ' males and ' + str(female_count) + ' females, which form ' + str(round((male_count / sample_size)*100,1)) + '% and ' + str(round((female_count/sample_size)*100,1)) + \"% of the population respectively\")\n",
    "\n",
    "# Smoking Distribution\n",
    "smoker_count = 0\n",
    "non_smoker_count = 0\n",
    "for item in smoker:\n",
    "    if item == 'yes':\n",
    "        smoker_count += 1\n",
    "    elif item == 'no':\n",
    "        non_smoker_count += 1\n",
    "\n",
    "print('The ratio between smokers and non_smokers in this dataset is of ' + str(round(smoker_count / non_smoker_count,1)) + '. This sample is comprised of ' + str(smoker_count) + ' smokers and ' + str(non_smoker_count) + ' non_smokers, which form ' + str(round((smoker_count / sample_size)*100,1)) + '% and ' + str(round((non_smoker_count/sample_size)*100,1)) + \"% of the population respectively\")\n",
    "\n",
    "sex_dict={'male':[], 'female':[]}\n",
    "for item in range(len(sex)):\n",
    "    if sex[item] == 'male':\n",
    "        sex_dict['male'].append(smoker[item])\n",
    "    elif sex[item] == 'female':\n",
    "        sex_dict['female'].append(smoker[item])\n",
    "#print(sex_dict)\n",
    "\n",
    "male_smoke = sex_dict['male'].count('yes')\n",
    "female_smoke = sex_dict['female'].count('yes')\n",
    "print('The number of male smokers in the dataset is ' + str(round(male_smoke,1)) + ' making up ' + str(round((male_smoke / male_count * 100),1)) + '% of the male population. While the number of female smokers in the dataset is ' + (str(round(female_smoke,1))) + ' making up ' + str(round((female_smoke/female_count)* 100,1)) + '% of the female population.')\n",
    "\n",
    "# Region Distribution\n",
    "\n",
    "southwest_count = 0\n",
    "southeast_count = 0\n",
    "northwest_count = 0\n",
    "northeast_count = 0\n",
    "for item in region:\n",
    "    if item == 'southwest':\n",
    "        southwest_count += 1\n",
    "    elif item == 'southeast':\n",
    "        southeast_count += 1\n",
    "    elif item == 'northwest':\n",
    "        northwest_count +=1\n",
    "    elif item == 'northeast':\n",
    "        northeast_count += 1\n",
    "\n",
    "print('Out of the total population, ' + str(southwest_count) + ' people are from the Southwest, representing ' + str(round((southwest_count/sample_size)*100,1)) + '%.')\n",
    "print('Out of the total population, ' + str(southeast_count) + ' people are from the Southeast, representing ' + str(round((southeast_count/sample_size)*100,1)) + '%.')\n",
    "print('Out of the total population, ' + str(northwest_count) + ' people are from the Northwest, representing ' + str(round((northwest_count/sample_size)*100,1)) + '%.')\n",
    "print('Out of the total population, ' + str(northeast_count) + ' people are from the Northeast, representing ' + str(round((northeast_count/sample_size)*100,1)) + '%.')\n"
   ]
  },
  {
   "cell_type": "markdown",
   "metadata": {},
   "source": [
    "### Quantitative Variables \n",
    "#### I am gonna divide this block into three for easier reading purposes"
   ]
  },
  {
   "cell_type": "code",
   "execution_count": 143,
   "metadata": {},
   "outputs": [
    {
     "name": "stdout",
     "output_type": "stream",
     "text": [
      "39.2\n",
      "Within the sample, there are 306 people between the ages of 16 and 25 (22.9% of the population) \n",
      "Within the sample, there are 268 people between the ages of 26 and 35 (20.0% of the population)\n",
      "Within the sample, there are 264 people between the ages of 36 and 45 (19.7% of the population)\n",
      "Within the sample, there are 284 people between the ages of 46 and 55 (21.2% of the population)\n",
      "Within the sample, there are 216 people between the ages of 56 and 65 (16.1% of the population)\n"
     ]
    }
   ],
   "source": [
    "# Age Analysis\n",
    "\n",
    "def average_age(list):\n",
    "    sum = 0\n",
    "    length = 0\n",
    "    for item in list:\n",
    "        sum += int(item)\n",
    "        length += 1\n",
    "    return sum/length\n",
    "\n",
    "print(round(average_age(ages),1))\n",
    "\n",
    "age_16_25_count = 0\n",
    "age_26_35_count = 0\n",
    "age_36_45_count = 0\n",
    "age_46_55_count = 0\n",
    "age_56_65_count = 0\n",
    "for item in ages:\n",
    "    if item >= '16' and item <='25':\n",
    "        age_16_25_count += 1\n",
    "    elif item >= '26' and item <= '35':\n",
    "        age_26_35_count += 1\n",
    "    elif item >= '36' and item <= '45':\n",
    "        age_36_45_count += 1\n",
    "    elif item >= '46' and item <= '55':\n",
    "        age_46_55_count += 1\n",
    "    elif item >= '56' and item <= '65':\n",
    "        age_56_65_count += 1\n",
    "\n",
    "print ('Within the sample, there are ' + str(age_16_25_count) + ' people between the ages of 16 and 25 (' + str(round((age_16_25_count/sample_size)*100,1))+ '% of the population) ')\n",
    "print('Within the sample, there are ' + str(age_26_35_count)+ ' people between the ages of 26 and 35 (' + str(round((age_26_35_count/sample_size)*100,1))+ '% of the population)')  \n",
    "print( 'Within the sample, there are ' + str(age_36_45_count) + ' people between the ages of 36 and 45 (' + str(round((age_36_45_count/sample_size)*100,1))+ '% of the population)') \n",
    "print( 'Within the sample, there are ' + str(age_46_55_count) + ' people between the ages of 46 and 55 ('+ str(round((age_46_55_count/sample_size)*100,1))+ '% of the population)')\n",
    "print( 'Within the sample, there are ' + str(age_56_65_count) + ' people between the ages of 56 and 65 ('+ str(round((age_56_65_count/sample_size)*100,1))+ '% of the population)')\n"
   ]
  },
  {
   "cell_type": "code",
   "execution_count": 145,
   "metadata": {},
   "outputs": [
    {
     "name": "stdout",
     "output_type": "stream",
     "text": [
      "BMI < 18.5: 20 people. 60.0% females, 40.0% males \n",
      "BMI 18.5-24.9: 222 people. 52.3% females, 47.7% males \n",
      "BMI 15-29.9: 377 people. 50.7% females, 49.3% males \n",
      "BMI > 30: 707 people. 47.2% females, 52.8% males, \n"
     ]
    }
   ],
   "source": [
    "# BMI Analysis\n",
    "\n",
    "underweight = 0\n",
    "normal = 0\n",
    "overweight = 0\n",
    "obese = 0\n",
    "for item in bmi:\n",
    "    if item <'18.5':\n",
    "        underweight += 1\n",
    "    elif item >= '18.5' and item <= '24.9':\n",
    "        normal += 1\n",
    "    elif item >= '25' and item <= '29.9':\n",
    "        overweight += 1\n",
    "    elif item >= '30':\n",
    "        obese += 1\n",
    "\n",
    "bmi_male = {\n",
    "    'underweight' : 0,\n",
    "    'normal' : 0,\n",
    "    'overweight' : 0,\n",
    "    'obese' : 0,\n",
    "}\n",
    "#print(bmi_male)\n",
    "bmi_female = {\n",
    "    'underweight' : 0,\n",
    "    'normal' : 0,\n",
    "    'overweight' : 0,\n",
    "    'obese' : 0,\n",
    "}\n",
    "\n",
    "for item in range(sample_size):\n",
    "    if sex[item] == 'female':\n",
    "            if bmi[item] < '18.5':     \n",
    "                bmi_female['underweight'] += 1\n",
    "            elif bmi[item] >= '18.5' and bmi[item] <= '24.9':\n",
    "                bmi_female['normal'] += 1\n",
    "            elif bmi[item] >= '25' and bmi[item] <= '29.9':\n",
    "                bmi_female['overweight'] += 1\n",
    "            elif bmi[item] >= '30':\n",
    "                bmi_female['obese'] += 1\n",
    "    elif sex[item] == 'male':\n",
    "            if bmi[item] <'18.5':\n",
    "                bmi_male['underweight'] += 1\n",
    "            elif bmi[item] >= '18.5' and bmi[item] <= '24.9':\n",
    "                bmi_male['normal'] += 1\n",
    "            elif bmi[item] >= '25' and bmi[item] <= '29.9':\n",
    "                bmi_male['overweight'] += 1\n",
    "            elif bmi[item] >= '30':\n",
    "                bmi_male['obese'] += 1\n",
    "\n",
    "print('BMI < 18.5: ' + str(underweight) + ' people. ' + str(round((bmi_female['underweight']/underweight)*100,1)) + '% females, ' + str(round((bmi_male['underweight']/underweight)*100,1)) + '% males ')\n",
    "print('BMI 18.5-24.9: ' + str(normal) + ' people. ' + str(round((bmi_female['normal']/normal)*100,1)) + '% females, ' + str(round((bmi_male['normal']/normal)*100,1)) + '% males ')\n",
    "print('BMI 15-29.9: ' + str(overweight) + ' people. ' + str(round((bmi_female['overweight']/overweight)*100,1)) + '% females, ' + str(round((bmi_male['overweight']/overweight)*100,1)) + '% males ')\n",
    "print('BMI > 30: ' + str(obese) + ' people. ' + str(round((bmi_female['obese']/obese)*100,1)) + '% females, ' + str(round((bmi_male['obese']/obese)*100,1)) + '% males, ')\n"
   ]
  }
 ],
 "metadata": {
  "kernelspec": {
   "display_name": "Python 3.9.13 64-bit (windows store)",
   "language": "python",
   "name": "python3"
  },
  "language_info": {
   "codemirror_mode": {
    "name": "ipython",
    "version": 3
   },
   "file_extension": ".py",
   "mimetype": "text/x-python",
   "name": "python",
   "nbconvert_exporter": "python",
   "pygments_lexer": "ipython3",
   "version": "3.9.13"
  },
  "vscode": {
   "interpreter": {
    "hash": "d9036b9605f82f48a89d7420ae93c383e626794aa66134df29732bd7d9b3a3e7"
   }
  }
 },
 "nbformat": 4,
 "nbformat_minor": 4
}
