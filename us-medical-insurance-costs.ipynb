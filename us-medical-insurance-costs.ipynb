{
 "cells": [
  {
   "cell_type": "markdown",
   "metadata": {},
   "source": [
    "# U.S. Medical Insurance Costs"
   ]
  },
  {
   "cell_type": "markdown",
   "metadata": {},
   "source": [
    "## Step 1: Import the dataset"
   ]
  },
  {
   "cell_type": "code",
   "execution_count": 223,
   "metadata": {},
   "outputs": [],
   "source": [
    "import csv\n",
    "def csv_read (key):\n",
    "    lst = []\n",
    "    with open('insurance.csv') as insurance_csv:\n",
    "        csv_reader = csv.DictReader(insurance_csv)\n",
    "        for row in csv_reader:\n",
    "            lst.append(row.get(key))\n",
    "    return lst\n",
    "        "
   ]
  },
  {
   "cell_type": "markdown",
   "metadata": {},
   "source": [
    "## Step 2: Divide dataset into lists"
   ]
  },
  {
   "cell_type": "code",
   "execution_count": 281,
   "metadata": {},
   "outputs": [
    {
     "name": "stdout",
     "output_type": "stream",
     "text": [
      "<class 'int'>\n"
     ]
    }
   ],
   "source": [
    "ages = csv_read('age')\n",
    "sex = csv_read('sex')\n",
    "bmi = csv_read('bmi')\n",
    "region = csv_read('region')\n",
    "smoker = csv_read('smoker')\n",
    "charges = csv_read('charges')\n",
    "children = csv_read('children')\n",
    "\n",
    "int_ages = [int(item) for item in ages]\n",
    "int_children = [int(item) for item in children]\n",
    "int_bmi = [int(int(float(item))) for item in bmi]\n",
    "int_charges = [int(int(float(item))) for item in charges]\n",
    "\n",
    "def type_function (lst):\n",
    "    for item in lst:\n",
    "        type_str = type(item)\n",
    "    return type_str\n",
    "print(type_function(int_bmi))"
   ]
  },
  {
   "cell_type": "markdown",
   "metadata": {},
   "source": [
    "## Step 3: Exploratory Analysis"
   ]
  },
  {
   "cell_type": "markdown",
   "metadata": {},
   "source": [
    "#### Qualitative Variables"
   ]
  },
  {
   "cell_type": "code",
   "execution_count": 225,
   "metadata": {},
   "outputs": [
    {
     "name": "stdout",
     "output_type": "stream",
     "text": [
      "The ratio between males and females in this dataset is of 1.0. This sample is comprised of 676 males and 662 females, which form 50.5% and 49.5% of the population respectively\n"
     ]
    }
   ],
   "source": [
    "\n",
    "sample_size = len(ages)\n",
    "\n",
    "# Sex Distribution\n",
    "male_count = 0\n",
    "female_count = 0\n",
    "for item in sex:\n",
    "    if item == 'male':\n",
    "        male_count += 1\n",
    "    elif item == 'female':\n",
    "        female_count += 1\n",
    "    \n",
    "print('The ratio between males and females in this dataset is of ' + str(round(male_count / female_count,1)) + '. This sample is comprised of ' + str(male_count) + ' males and ' + str(female_count) + ' females, which form ' + str(round((male_count / sample_size)*100,1)) + '% and ' + str(round((female_count/sample_size)*100,1)) + \"% of the population respectively\")\n"
   ]
  },
  {
   "cell_type": "code",
   "execution_count": 226,
   "metadata": {},
   "outputs": [
    {
     "name": "stdout",
     "output_type": "stream",
     "text": [
      "The ratio between smokers and non_smokers in this dataset is of 0.3. This sample is comprised of 274 smokers and 1064 non_smokers, which form 20.5% and 79.5% of the population respectively\n",
      "The number of male smokers in the dataset is 159 making up 23.5% of the male population. While the number of female smokers in the dataset is 115 making up 17.4% of the female population.\n"
     ]
    }
   ],
   "source": [
    "# Smoking Distribution\n",
    "smoker_count = 0\n",
    "non_smoker_count = 0\n",
    "for item in smoker:\n",
    "    if item == 'yes':\n",
    "        smoker_count += 1\n",
    "    elif item == 'no':\n",
    "        non_smoker_count += 1\n",
    "\n",
    "print('The ratio between smokers and non_smokers in this dataset is of ' + str(round(smoker_count / non_smoker_count,1)) + '. This sample is comprised of ' + str(smoker_count) + ' smokers and ' + str(non_smoker_count) + ' non_smokers, which form ' + str(round((smoker_count / sample_size)*100,1)) + '% and ' + str(round((non_smoker_count/sample_size)*100,1)) + \"% of the population respectively\")\n",
    "\n",
    "sex_dict={'male':[], 'female':[]}\n",
    "for item in range(len(sex)):\n",
    "    if sex[item] == 'male':\n",
    "        sex_dict['male'].append(smoker[item])\n",
    "    elif sex[item] == 'female':\n",
    "        sex_dict['female'].append(smoker[item])\n",
    "#print(sex_dict)\n",
    "\n",
    "male_smoke = sex_dict['male'].count('yes')\n",
    "female_smoke = sex_dict['female'].count('yes')\n",
    "print('The number of male smokers in the dataset is ' + str(round(male_smoke,1)) + ' making up ' + str(round((male_smoke / male_count * 100),1)) + '% of the male population. While the number of female smokers in the dataset is ' + (str(round(female_smoke,1))) + ' making up ' + str(round((female_smoke/female_count)* 100,1)) + '% of the female population.')"
   ]
  },
  {
   "cell_type": "code",
   "execution_count": 227,
   "metadata": {},
   "outputs": [
    {
     "name": "stdout",
     "output_type": "stream",
     "text": [
      "Out of the total population, 325 people are from the Southwest, representing 24.3%.\n",
      "Out of the total population, 364 people are from the Southeast, representing 27.2%.\n",
      "Out of the total population, 325 people are from the Northwest, representing 24.3%.\n",
      "Out of the total population, 324 people are from the Northeast, representing 24.2%.\n"
     ]
    }
   ],
   "source": [
    "# Region Distribution\n",
    "\n",
    "southwest_count = 0\n",
    "southeast_count = 0\n",
    "northwest_count = 0\n",
    "northeast_count = 0\n",
    "for item in region:\n",
    "    if item == 'southwest':\n",
    "        southwest_count += 1\n",
    "    elif item == 'southeast':\n",
    "        southeast_count += 1\n",
    "    elif item == 'northwest':\n",
    "        northwest_count +=1\n",
    "    elif item == 'northeast':\n",
    "        northeast_count += 1\n",
    "\n",
    "print('Out of the total population, ' + str(southwest_count) + ' people are from the Southwest, representing ' + str(round((southwest_count/sample_size)*100,1)) + '%.')\n",
    "print('Out of the total population, ' + str(southeast_count) + ' people are from the Southeast, representing ' + str(round((southeast_count/sample_size)*100,1)) + '%.')\n",
    "print('Out of the total population, ' + str(northwest_count) + ' people are from the Northwest, representing ' + str(round((northwest_count/sample_size)*100,1)) + '%.')\n",
    "print('Out of the total population, ' + str(northeast_count) + ' people are from the Northeast, representing ' + str(round((northeast_count/sample_size)*100,1)) + '%.')"
   ]
  },
  {
   "cell_type": "markdown",
   "metadata": {},
   "source": [
    "### Quantitative Variables \n"
   ]
  },
  {
   "cell_type": "code",
   "execution_count": 262,
   "metadata": {},
   "outputs": [
    {
     "name": "stdout",
     "output_type": "stream",
     "text": [
      "Average age in the dataset: 39.2\n",
      "Maximum age in the dataset: 64\n",
      "Minimum age in the dataset: 18\n",
      "There are 306 people between the ages of 16 and 25 (22.9% of the population) \n",
      "There are 268 people between the ages of 26 and 35 (20.0% of the population)\n",
      "There are 264 people between the ages of 36 and 45 (19.7% of the population)\n",
      "There are 284 people between the ages of 46 and 55 (21.2% of the population)\n",
      "There are 216 people between the ages of 56 and 65 (16.1% of the population)\n"
     ]
    }
   ],
   "source": [
    "# Age Analysis\n",
    "\n",
    "def average_age(list):\n",
    "    sum = 0\n",
    "    length = 0\n",
    "    for item in list:\n",
    "        sum += item\n",
    "        length += 1\n",
    "    return sum/length\n",
    "\n",
    "print('Average age in the dataset: ' + str(round(average_age(int_ages),1)))\n",
    "print('Maximum age in the dataset: ' + str(max(int_ages)))\n",
    "print('Minimum age in the dataset: ' + str(min(int_ages)))\n",
    "\n",
    "age_16_25_count = 0\n",
    "age_26_35_count = 0\n",
    "age_36_45_count = 0\n",
    "age_46_55_count = 0\n",
    "age_56_65_count = 0\n",
    "for item in int_ages:\n",
    "    if item >= 16 and item <= 25:\n",
    "        age_16_25_count += 1\n",
    "    elif item >= 26 and item <= 35:\n",
    "        age_26_35_count += 1\n",
    "    elif item >= 36 and item <= 45:\n",
    "        age_36_45_count += 1\n",
    "    elif item >= 46 and item <= 55:\n",
    "        age_46_55_count += 1\n",
    "    elif item >= 56 and item <= 65:\n",
    "        age_56_65_count += 1\n",
    "\n",
    "print ('There are ' + str(age_16_25_count) + ' people between the ages of 16 and 25 (' + str(round((age_16_25_count/sample_size)*100,1))+ '% of the population) ')\n",
    "print('There are ' + str(age_26_35_count)+ ' people between the ages of 26 and 35 (' + str(round((age_26_35_count/sample_size)*100,1))+ '% of the population)')  \n",
    "print( 'There are ' + str(age_36_45_count) + ' people between the ages of 36 and 45 (' + str(round((age_36_45_count/sample_size)*100,1))+ '% of the population)') \n",
    "print( 'There are ' + str(age_46_55_count) + ' people between the ages of 46 and 55 ('+ str(round((age_46_55_count/sample_size)*100,1))+ '% of the population)')\n",
    "print( 'There are ' + str(age_56_65_count) + ' people between the ages of 56 and 65 ('+ str(round((age_56_65_count/sample_size)*100,1))+ '% of the population)')\n"
   ]
  },
  {
   "cell_type": "code",
   "execution_count": 283,
   "metadata": {},
   "outputs": [
    {
     "name": "stdout",
     "output_type": "stream",
     "text": [
      "BMI < 18.5: 24 people. 58.3% females, 41.7% males \n",
      "BMI 18.5-24.9: 221 people. 52.0% females, 48.0% males \n",
      "BMI 15-29.9: 386 people. 51.6% females, 48.4% males \n",
      "BMI > 30: 707 people. 47.2% females, 52.8% males, \n"
     ]
    }
   ],
   "source": [
    "# BMI Analysis\n",
    "\n",
    "underweight = 0\n",
    "normal = 0\n",
    "overweight = 0\n",
    "obese = 0\n",
    "for item in int_bmi:\n",
    "    if item <18.5:\n",
    "        underweight += 1\n",
    "    elif item >= 18.5 and item <= 24.9:\n",
    "        normal += 1\n",
    "    elif item >= 25 and item <= 29.9:\n",
    "        overweight += 1\n",
    "    elif item >= 30:\n",
    "        obese += 1\n",
    "\n",
    "bmi_male = {\n",
    "    'underweight' : 0,\n",
    "    'normal' : 0,\n",
    "    'overweight' : 0,\n",
    "    'obese' : 0,\n",
    "}\n",
    "#print(bmi_male)\n",
    "bmi_female = {\n",
    "    'underweight' : 0,\n",
    "    'normal' : 0,\n",
    "    'overweight' : 0,\n",
    "    'obese' : 0,\n",
    "}\n",
    "\n",
    "for item in range(sample_size):\n",
    "    if sex[item] == 'female':\n",
    "            if int_bmi[item] < 18.5:     \n",
    "                bmi_female['underweight'] += 1\n",
    "            elif int_bmi[item] >= 18.5 and int_bmi[item] <= 24.9:\n",
    "                bmi_female['normal'] += 1\n",
    "            elif int_bmi[item] >= 25 and int_bmi[item] <= 29.9:\n",
    "                bmi_female['overweight'] += 1\n",
    "            elif int_bmi[item] >= 30:\n",
    "                bmi_female['obese'] += 1\n",
    "    elif sex[item] == 'male':\n",
    "            if int_bmi[item] <18.5:\n",
    "                bmi_male['underweight'] += 1\n",
    "            elif int_bmi[item] >= 18.5 and int_bmi[item] <= 24.9:\n",
    "                bmi_male['normal'] += 1\n",
    "            elif int_bmi[item] >= 25 and int_bmi[item] <= 29.9:\n",
    "                bmi_male['overweight'] += 1\n",
    "            elif int_bmi[item] >= 30:\n",
    "                bmi_male['obese'] += 1\n",
    "\n",
    "print('BMI < 18.5: ' + str(underweight) + ' people. ' + str(round((bmi_female['underweight']/underweight)*100,1)) + '% females, ' + str(round((bmi_male['underweight']/underweight)*100,1)) + '% males ')\n",
    "print('BMI 18.5-24.9: ' + str(normal) + ' people. ' + str(round((bmi_female['normal']/normal)*100,1)) + '% females, ' + str(round((bmi_male['normal']/normal)*100,1)) + '% males ')\n",
    "print('BMI 15-29.9: ' + str(overweight) + ' people. ' + str(round((bmi_female['overweight']/overweight)*100,1)) + '% females, ' + str(round((bmi_male['overweight']/overweight)*100,1)) + '% males ')\n",
    "print('BMI > 30: ' + str(obese) + ' people. ' + str(round((bmi_female['obese']/obese)*100,1)) + '% females, ' + str(round((bmi_male['obese']/obese)*100,1)) + '% males, ')\n"
   ]
  },
  {
   "cell_type": "code",
   "execution_count": 265,
   "metadata": {},
   "outputs": [
    {
     "name": "stdout",
     "output_type": "stream",
     "text": [
      "max number of children in the dataset: 5\n",
      "min number of children in the dataset: 0\n"
     ]
    }
   ],
   "source": [
    "# Children Analysis\n",
    "\n",
    "# Figuring out lower and upper bounds for distribution\n",
    "upper_children_limit = max(int_children)\n",
    "lower_children_limit = min(int_children)\n",
    "\n",
    "print('max number of children in the dataset: '+ str(upper_children_limit))\n",
    "print('min number of children in the dataset: ' + str(lower_children_limit))"
   ]
  },
  {
   "cell_type": "code",
   "execution_count": 266,
   "metadata": {},
   "outputs": [
    {
     "name": "stdout",
     "output_type": "stream",
     "text": [
      "People with no children: 574. Comprising 42.9% of the population.\n",
      "People with one child: 324. Comprising 24.2% of the population.\n",
      "People with two children: 240. Comprising 17.9% of the population.\n",
      "People with three children: 157. Comprising 11.7% of the population.\n",
      "People with four children: 25. Comprising 1.9% of the population.\n",
      "People with five children: 18. Comprising 1.3% of the population.\n"
     ]
    }
   ],
   "source": [
    "# Initializing possible distribution variables \n",
    "no_children = 0\n",
    "children_1 = 0\n",
    "children_2 = 0\n",
    "children_3 = 0\n",
    "children_4 = 0\n",
    "children_5 = 0\n",
    "\n",
    "for item in int_children:\n",
    "    if item == 0:\n",
    "        no_children += 1\n",
    "    elif item == 1:\n",
    "        children_1 += 1\n",
    "    elif item == 2:\n",
    "        children_2 += 1\n",
    "    elif item == 3:\n",
    "        children_3 += 1\n",
    "    elif item == 4:\n",
    "        children_4 += 1\n",
    "    elif item == 5:\n",
    "        children_5 += 1\n",
    "    \n",
    "print('People with no children: ' + str(no_children) + '. Comprising ' + str(round((no_children/sample_size)* 100,1)) + '% of the population.')\n",
    "print('People with one child: ' + str(children_1) + '. Comprising ' + str(round((children_1/sample_size)* 100,1)) + '% of the population.')\n",
    "print('People with two children: ' + str(children_2) + '. Comprising ' + str(round((children_2/sample_size)* 100,1)) + '% of the population.')\n",
    "print('People with three children: ' + str(children_3) + '. Comprising ' + str(round((children_3/sample_size)* 100,1)) + '% of the population.')\n",
    "print('People with four children: ' + str(children_4) + '. Comprising ' + str(round((children_4/sample_size)* 100,1)) + '% of the population.')\n",
    "print('People with five children: ' + str(children_5) + '. Comprising ' + str(round((children_5/sample_size)* 100,1)) + '% of the population.')"
   ]
  },
  {
   "cell_type": "markdown",
   "metadata": {},
   "source": [
    "## Step 4: Hypothesis Testing\n",
    "Which of the given variables affects the price of health insurance more harshly? \n",
    "\n",
    "Ha: There is a positive relationship between every single variable and the insurance charges\\\n",
    "H0: There is no relationship between every single variable and the insurance charges"
   ]
  },
  {
   "cell_type": "code",
   "execution_count": 285,
   "metadata": {},
   "outputs": [
    {
     "name": "stdout",
     "output_type": "stream",
     "text": [
      "max insurance charge in the dataset is 63770\n",
      "min insurance charge in the dataset is 1121\n",
      "Q1 quantile:  4740.0\n",
      "Q2 quantile:  9381.5\n",
      "Q3 quantile:  16639.25\n",
      "Top 10% of charges:  34831.0\n"
     ]
    }
   ],
   "source": [
    "#p_value = 0.05\n",
    "import numpy as np\n",
    "\n",
    "print('max insurance charge in the dataset is ' + str(max(int_charges)))\n",
    "print('min insurance charge in the dataset is ' + str(min(int_charges)))\n",
    "\n",
    "print(\"Q1 quantile: \", np.quantile(int_charges, .25))\n",
    "print(\"Q2 quantile: \", np.quantile(int_charges, .50))\n",
    "print(\"Q3 quantile: \", np.quantile(int_charges, .75))\n",
    "print(\"Top 10% of charges: \", np.quantile(int_charges, .90))\n",
    "\n",
    "threshold_value = np.quantile(int_charges, .90)\n",
    "\n",
    "zipped_data = zip(sex, int_ages ,region, smoker, int_bmi, int_children , int_charges)\n",
    "listed_data = list(zipped_data)\n",
    "#print(listed_data)\n",
    "\n",
    "threshold_list = [item[0:] for item in listed_data if item[6] == threshold_value or item[6] > threshold_value]\n",
    "#print(threshold_list)"
   ]
  },
  {
   "cell_type": "code",
   "execution_count": 270,
   "metadata": {},
   "outputs": [
    {
     "name": "stdout",
     "output_type": "stream",
     "text": [
      "Number of males in the top 10% of insurance charges: 84\n",
      "Number of females in the top 10% of insurance charges: 50\n",
      "Smokers: 131\n",
      "Non-Smokers: 3\n",
      "Southeast: 55\n",
      "Southwest: 32\n",
      "Northeast: 27\n",
      "Northwest: 20\n"
     ]
    }
   ],
   "source": [
    "def count_qual(lst,element,index):\n",
    "    counter = 0\n",
    "    for item in lst:\n",
    "        if item[index] == element:\n",
    "            counter += 1\n",
    "    return counter\n",
    "# Sex\n",
    "print('Number of males in the top 10% of insurance charges: '+ str(count_qual(threshold_list,'male', 0)))\n",
    "print('Number of females in the top 10% of insurance charges: ' + str(count_qual(threshold_list,'female', 0)))\n",
    "\n",
    "# Smoking\n",
    "print('Smokers: ' + str(count_qual(threshold_list, 'yes', 3)))\n",
    "print('Non-Smokers: ' + str(count_qual(threshold_list, 'no', 3)))\n",
    "\n",
    "# Region\n",
    "print('Southeast: ' + str(count_qual(threshold_list, 'southeast', 2)))\n",
    "print('Southwest: ' + str(count_qual(threshold_list, 'southwest', 2)))\n",
    "print('Northeast: ' + str(count_qual(threshold_list, 'northeast', 2)))\n",
    "print('Northwest: ' + str(count_qual(threshold_list, 'northwest', 2)))\n"
   ]
  },
  {
   "cell_type": "code",
   "execution_count": 289,
   "metadata": {},
   "outputs": [
    {
     "name": "stdout",
     "output_type": "stream",
     "text": [
      "Most ocurring age in top 10% of insurance charges: 37\n",
      "Most ocurring bmi in top 10% of insurance charges: 36\n",
      "Most ocurring number of children in top 10% of insurance charges: 0\n"
     ]
    }
   ],
   "source": [
    "from statistics import mode\n",
    "\n",
    "top_ages = [item[1] for item in threshold_list]\n",
    "#print(top_ages)\n",
    "top_bmi = [item[4] for item in threshold_list]\n",
    "#print(top_bmi)\n",
    "top_children = [item[5] for item in threshold_list]\n",
    "top_charges = [item[6] for item in threshold_list]\n",
    "#print(top_charges)\n",
    "\n",
    "\n",
    "\n",
    "print('Most ocurring age in top 10% of insurance charges: ' + str(mode(top_ages)))\n",
    "print('Most ocurring bmi in top 10% of insurance charges: ' + str(mode(top_bmi)))\n",
    "print('Most ocurring number of children in top 10% of insurance charges: ' + str(mode(top_children)))"
   ]
  },
  {
   "cell_type": "code",
   "execution_count": 292,
   "metadata": {},
   "outputs": [
    {
     "name": "stdout",
     "output_type": "stream",
     "text": [
      "[[1.         0.55769856]\n",
      " [0.55769856 1.        ]]\n",
      "[[1.         0.31898081]\n",
      " [0.31898081 1.        ]]\n",
      "[[ 1.         -0.00538623]\n",
      " [-0.00538623  1.        ]]\n"
     ]
    }
   ],
   "source": [
    "pearsons_coefficient_age = np.corrcoef(top_charges, top_ages)\n",
    "print(pearsons_coefficient_age)\n",
    "\n",
    "pearsons_coefficient_bmi = np.corrcoef(top_charges, top_bmi)\n",
    "print(pearsons_coefficient_bmi)\n",
    "\n",
    "pearsons_coefficient_children = np.corrcoef(top_charges, top_children)\n",
    "print(pearsons_coefficient_children)"
   ]
  }
 ],
 "metadata": {
  "kernelspec": {
   "display_name": "Python 3.9.13 64-bit (windows store)",
   "language": "python",
   "name": "python3"
  },
  "language_info": {
   "codemirror_mode": {
    "name": "ipython",
    "version": 3
   },
   "file_extension": ".py",
   "mimetype": "text/x-python",
   "name": "python",
   "nbconvert_exporter": "python",
   "pygments_lexer": "ipython3",
   "version": "3.9.13"
  },
  "vscode": {
   "interpreter": {
    "hash": "d9036b9605f82f48a89d7420ae93c383e626794aa66134df29732bd7d9b3a3e7"
   }
  }
 },
 "nbformat": 4,
 "nbformat_minor": 4
}
